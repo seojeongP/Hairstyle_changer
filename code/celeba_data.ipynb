{
 "cells": [
  {
   "cell_type": "code",
   "execution_count": null,
   "id": "b6367764-2d35-4434-8343-592b9bfa5cb4",
   "metadata": {},
   "outputs": [],
   "source": [
    "import os\n",
    "import cv2"
   ]
  },
  {
   "cell_type": "code",
   "execution_count": 3,
   "id": "24292150-6a04-4f48-b54c-1092a3099704",
   "metadata": {},
   "outputs": [],
   "source": [
    "path = 'C:\\\\Users\\\\seojeongP\\\\Desktop\\\\2021\\\\영상처리와 딥러닝\\\\final_project\\\\dataset\\\\celeba\\\\archive\\\\img_align_celeba'\n",
    "os.chdir(path)\n",
    "files = os.listdir(path)"
   ]
  },
  {
   "cell_type": "code",
   "execution_count": 4,
   "id": "c69ab821-e95d-4273-a042-3156d9390259",
   "metadata": {},
   "outputs": [],
   "source": [
    "jpg_img = []\n",
    "for i,file in enumerate(files):\n",
    "    if '.jpg' in file: \n",
    "        f = cv2.imread(file, cv2.IMREAD_COLOR)\n",
    "        jpg_img.append(f)"
   ]
  },
  {
   "cell_type": "code",
   "execution_count": 6,
   "id": "d863f01e-3989-4481-a1c6-2a4e347b01c6",
   "metadata": {},
   "outputs": [
    {
     "data": {
      "text/plain": [
       "200000"
      ]
     },
     "execution_count": 6,
     "metadata": {},
     "output_type": "execute_result"
    }
   ],
   "source": [
    "jpg_img = jpg_img[:200000]\n",
    "\n",
    "len(jpg_img)"
   ]
  },
  {
   "cell_type": "code",
   "execution_count": 10,
   "id": "b3715d8e-3b89-42ea-ac27-004412b06785",
   "metadata": {},
   "outputs": [],
   "source": [
    "os.chdir('C:\\\\Users\\\\seojeongP\\\\Desktop\\\\2021\\\\영상처리와 딥러닝\\\\final_project\\\\dataset')"
   ]
  },
  {
   "cell_type": "code",
   "execution_count": 11,
   "id": "858167ef-d4c0-4a89-9a9e-4c425ad1e03c",
   "metadata": {},
   "outputs": [
    {
     "data": {
      "text/plain": [
       "'C:\\\\Users\\\\seojeongP\\\\Desktop\\\\2021\\\\영상처리와 딥러닝\\\\final_project\\\\dataset'"
      ]
     },
     "execution_count": 11,
     "metadata": {},
     "output_type": "execute_result"
    }
   ],
   "source": [
    "pwd"
   ]
  },
  {
   "cell_type": "markdown",
   "id": "89b7c036-1000-4260-b420-96cd99c231ff",
   "metadata": {},
   "source": [
    "## origin data"
   ]
  },
  {
   "cell_type": "code",
   "execution_count": 12,
   "id": "ef8c2f63-a11f-4dc2-95ff-b616257cd5ac",
   "metadata": {},
   "outputs": [],
   "source": [
    "for i, faceimg in enumerate(jpg_img):\n",
    "    faceimg = faceimg[26:204, :]\n",
    "    \n",
    "    if(i<10): \n",
    "        ab = '00{0}'.format(i)\n",
    "    elif(i<100): \n",
    "        ab='0{0}'.format(i)\n",
    "    else: \n",
    "        ab=i\n",
    "    cv2.imwrite('./origin/origin/{0}.jpg'.format(ab), faceimg)"
   ]
  },
  {
   "cell_type": "markdown",
   "id": "e1c627ca-686b-4413-8eb3-19ebdfff6a48",
   "metadata": {},
   "source": [
    "## mask preparation"
   ]
  },
  {
   "cell_type": "code",
   "execution_count": 16,
   "id": "9b637ff0-e09c-478c-bbaa-a8c68090de76",
   "metadata": {},
   "outputs": [],
   "source": [
    "path = 'C:\\\\Users\\\\seojeongP\\\\Desktop\\\\2021\\\\영상처리와 딥러닝\\\\final_project\\\\dataset\\\\origin\\\\origin'\n",
    "os.chdir(path)\n",
    "files = os.listdir(path)\n",
    "\n",
    "jpg_img = []\n",
    "for i,file in enumerate(files):\n",
    "    if '.jpg' in file: \n",
    "        f = cv2.imread(file, cv2.IMREAD_COLOR)\n",
    "        jpg_img.append(f)"
   ]
  },
  {
   "cell_type": "code",
   "execution_count": 17,
   "id": "e06f57f6-385b-4497-a282-96fa7ca2eefe",
   "metadata": {},
   "outputs": [],
   "source": [
    "jpg_test = jpg_img[:100]"
   ]
  },
  {
   "cell_type": "code",
   "execution_count": 18,
   "id": "e6a22a86-9268-4e77-85b6-39fc8c693d53",
   "metadata": {},
   "outputs": [
    {
     "data": {
      "text/plain": [
       "(178, 178, 3)"
      ]
     },
     "execution_count": 18,
     "metadata": {},
     "output_type": "execute_result"
    }
   ],
   "source": [
    "jpg_test[0].shape"
   ]
  },
  {
   "cell_type": "code",
   "execution_count": 20,
   "id": "b8f636bd-f52a-45d7-b58f-a8da506c12b8",
   "metadata": {},
   "outputs": [],
   "source": [
    "path = 'C:\\\\Users\\\\seojeongP\\\\Desktop\\\\2021\\\\영상처리와 딥러닝\\\\final_project\\\\dataset'\n",
    "os.chdir(path)"
   ]
  },
  {
   "cell_type": "code",
   "execution_count": 24,
   "id": "fbf185af-065e-4f9d-ba2b-35e9c1e375cb",
   "metadata": {},
   "outputs": [
    {
     "data": {
      "text/plain": [
       "'C:\\\\Users\\\\seojeongP\\\\Desktop\\\\2021\\\\영상처리와 딥러닝\\\\final_project\\\\dataset'"
      ]
     },
     "execution_count": 24,
     "metadata": {},
     "output_type": "execute_result"
    }
   ],
   "source": [
    "pwd"
   ]
  },
  {
   "cell_type": "code",
   "execution_count": 25,
   "id": "5c4060d6-9299-4250-a7f8-39d44a4fca8c",
   "metadata": {
    "tags": []
   },
   "outputs": [],
   "source": [
    "# 원본 이미지 \n",
    "\n",
    "# mannequin\n",
    "back = cv2.imread(\"./img/back.jpg\", cv2.IMREAD_COLOR) #178x178\n",
    "\n",
    "# mask\n",
    "mask = cv2.imread(\"./img/mask2.png\", cv2.IMREAD_GRAYSCALE) #72x72\n",
    "\n",
    "if back is None: raise Exception(\"back 읽기 오류\")\n",
    "if mask is None: raise Exception(\"mask 읽기 오류\")"
   ]
  },
  {
   "cell_type": "markdown",
   "id": "5ff1c8f5-babe-4b46-9b19-53df7e2791a9",
   "metadata": {},
   "source": [
    "## bald "
   ]
  },
  {
   "cell_type": "code",
   "execution_count": 27,
   "id": "259e1f1f-a9de-4e50-a587-33af2a0d6d28",
   "metadata": {},
   "outputs": [],
   "source": [
    "for i, faceimg in enumerate(jpg_img):\n",
    "    back2 = back\n",
    "    \n",
    "    part = back2[68:140, 53:125]\n",
    "    face_core = faceimg[68:140, 53:125]\n",
    "    part[mask > 0] = face_core[mask > 0]\n",
    "    back2[68:140, 53:125] = part\n",
    "    if(i<10): \n",
    "        ab = '00{0}'.format(i)\n",
    "    elif(i<100): \n",
    "        ab='0{0}'.format(i)\n",
    "    else: \n",
    "        ab=i\n",
    "    cv2.imwrite('./back2/back2/{0}.jpg'.format(ab), back2)"
   ]
  },
  {
   "cell_type": "markdown",
   "id": "4e1f687d-629a-4d18-940d-08a0452d1932",
   "metadata": {},
   "source": [
    "## short hair"
   ]
  },
  {
   "cell_type": "code",
   "execution_count": 32,
   "id": "3eab16ea-050c-41ba-91c0-0c08734b9add",
   "metadata": {},
   "outputs": [],
   "source": [
    "short = cv2.imread(\"./img/short2.jpg\", cv2.IMREAD_COLOR)\n",
    "\n",
    "if short is None: raise Exception(\"영상파일 읽기 오류\")"
   ]
  },
  {
   "cell_type": "code",
   "execution_count": 34,
   "id": "0c3eec2c-e534-440b-b435-b6f0673028bb",
   "metadata": {},
   "outputs": [],
   "source": [
    "for i, faceimg in enumerate(jpg_img):\n",
    "    short2 = short\n",
    "\n",
    "    part = short2[68:140, 53:125]\n",
    "    face_core = faceimg[68:140, 53:125]\n",
    "    part[mask > 0] = face_core[mask > 0]\n",
    "    short2[68:140, 53:125] = part\n",
    "    if(i<10): \n",
    "        ab = '00{0}'.format(i)\n",
    "    elif(i<100): \n",
    "        ab='0{0}'.format(i)\n",
    "    else: \n",
    "        ab=i\n",
    "    cv2.imwrite('./short_data/short_data/{0}.jpg'.format(ab), short2)"
   ]
  },
  {
   "cell_type": "markdown",
   "id": "5ee931ba-5b2a-44dc-a88d-5e158c0e728c",
   "metadata": {},
   "source": [
    "## fomad hair"
   ]
  },
  {
   "cell_type": "code",
   "execution_count": 35,
   "id": "cb433a42-edda-418a-9284-8c21e96065f9",
   "metadata": {},
   "outputs": [],
   "source": [
    "fomad = cv2.imread(\"./img/fomad.jpg\", cv2.IMREAD_COLOR)\n",
    "\n",
    "if fomad is None: raise Exception(\"영상파일 읽기 오류\")"
   ]
  },
  {
   "cell_type": "code",
   "execution_count": 36,
   "id": "5f6c742b-5e30-4c11-b279-34adf4cba564",
   "metadata": {},
   "outputs": [],
   "source": [
    "for i, faceimg in enumerate(jpg_img):\n",
    "    fomad2 = fomad\n",
    "\n",
    "    part = fomad2[68:140, 53:125]\n",
    "    face_core = faceimg[68:140, 53:125]\n",
    "    part[mask > 0] = face_core[mask > 0]\n",
    "    fomad2[68:140, 53:125] = part\n",
    "    if(i<10): \n",
    "        ab = '00{0}'.format(i)\n",
    "    elif(i<100): \n",
    "        ab='0{0}'.format(i)\n",
    "    else: \n",
    "        ab=i\n",
    "    cv2.imwrite('./fomad_data/fomad_data/{0}.jpg'.format(ab), fomad2)"
   ]
  },
  {
   "cell_type": "markdown",
   "id": "5f9da68e-e9ed-4362-bbb4-f5bde1d45288",
   "metadata": {},
   "source": [
    "## scratch hair"
   ]
  },
  {
   "cell_type": "code",
   "execution_count": 38,
   "id": "b4a5720c-05d2-42c8-9978-e6b001cd2390",
   "metadata": {},
   "outputs": [],
   "source": [
    "scratch = cv2.imread(\"./img/scratch4.jpg\", cv2.IMREAD_COLOR)\n",
    "\n",
    "if scratch is None: raise Exception(\"영상파일 읽기 오류\")"
   ]
  },
  {
   "cell_type": "code",
   "execution_count": 40,
   "id": "3522570d-cb0c-41e0-84ba-4cec93869c5c",
   "metadata": {},
   "outputs": [],
   "source": [
    "for i, faceimg in enumerate(jpg_img):\n",
    "    scratch2 = scratch\n",
    "\n",
    "    part = scratch2[68:140, 53:125]\n",
    "    face_core = faceimg[68:140, 53:125]\n",
    "    part[mask > 0] = face_core[mask > 0]\n",
    "    scratch2[68:140, 53:125] = part\n",
    "    if(i<10): \n",
    "        ab = '00{0}'.format(i)\n",
    "    elif(i<100): \n",
    "        ab='0{0}'.format(i)\n",
    "    else: \n",
    "        ab=i\n",
    "    cv2.imwrite('./scratch_data/scratch_data/{0}.jpg'.format(ab), scratch2)"
   ]
  },
  {
   "cell_type": "markdown",
   "id": "998f9334-5fe3-4183-bbea-87eacc34ebd6",
   "metadata": {},
   "source": [
    "## apro hair"
   ]
  },
  {
   "cell_type": "code",
   "execution_count": 41,
   "id": "59762819-a875-4f13-b1c8-e87f4eabae96",
   "metadata": {},
   "outputs": [],
   "source": [
    "apro = cv2.imread(\"./img/apro2.jpg\", cv2.IMREAD_COLOR)\n",
    "\n",
    "if apro is None: raise Exception(\"영상파일 읽기 오류\")"
   ]
  },
  {
   "cell_type": "code",
   "execution_count": 42,
   "id": "5d8c2fb5-fa19-4fce-b712-95e2da4b672b",
   "metadata": {},
   "outputs": [],
   "source": [
    "for i, faceimg in enumerate(jpg_img):\n",
    "    apro2 = apro\n",
    "\n",
    "    part = apro2[68:140, 53:125]\n",
    "    face_core = faceimg[68:140, 53:125]\n",
    "    part[mask > 0] = face_core[mask > 0]\n",
    "    apro2[68:140, 53:125] = part\n",
    "    if(i<10): \n",
    "        ab = '00{0}'.format(i)\n",
    "    elif(i<100): \n",
    "        ab='0{0}'.format(i)\n",
    "    else: \n",
    "        ab=i\n",
    "    cv2.imwrite('./apro_data/apro_data/{0}.jpg'.format(ab), apro2)"
   ]
  },
  {
   "cell_type": "markdown",
   "id": "33ea806f-e8fe-4ccb-92ac-5b1440d4646a",
   "metadata": {},
   "source": [
    "## plot"
   ]
  },
  {
   "cell_type": "code",
   "execution_count": 43,
   "id": "bda94b88-0b6a-475d-ad69-7bf0133102a5",
   "metadata": {},
   "outputs": [],
   "source": [
    "import matplotlib.pyplot as plt\n",
    "%matplotlib inline"
   ]
  },
  {
   "cell_type": "code",
   "execution_count": 50,
   "id": "1baf54d6-ee4e-4fda-964e-5851bfa5b5b5",
   "metadata": {},
   "outputs": [
    {
     "data": {
      "text/plain": [
       "(178, 178, 3)"
      ]
     },
     "execution_count": 50,
     "metadata": {},
     "output_type": "execute_result"
    }
   ],
   "source": [
    "back2.shape"
   ]
  },
  {
   "cell_type": "code",
   "execution_count": 44,
   "id": "0f4884d3-71fe-44df-aa30-c6aa606f12c3",
   "metadata": {},
   "outputs": [
    {
     "data": {
      "image/png": "[encoded data removed]",
      "text/plain": [
       "<Figure size 432x288 with 5 Axes>"
      ]
     },
     "metadata": {
      "needs_background": "light"
     },
     "output_type": "display_data"
    }
   ],
   "source": [
    "plt.subplot(1,5,1)\n",
    "plt.imshow(back2)\n",
    "plt.subplot(1,5,2)\n",
    "plt.imshow(fomad2)\n",
    "plt.subplot(1,5,3)\n",
    "plt.imshow(scratch2)\n",
    "plt.subplot(1,5,4)\n",
    "plt.imshow(apro2)\n",
    "plt.subplot(1,5,5)\n",
    "plt.imshow(short2)\n",
    "plt.show()"
   ]
  },
  {
   "cell_type": "code",
   "execution_count": null,
   "id": "723137e1-21d9-4ccb-9879-931d028f3e0a",
   "metadata": {},
   "outputs": [],
   "source": []
  },
  {
   "cell_type": "code",
   "execution_count": null,
   "id": "c68be242-d088-4e21-a21a-8a8c35b4363c",
   "metadata": {},
   "outputs": [],
   "source": []
  }
 ],
 "metadata": {
  "kernelspec": {
   "display_name": "pytorch_1.1",
   "language": "python",
   "name": "pytorch_1.1"
  },
  "language_info": {
   "codemirror_mode": {
    "name": "ipython",
    "version": 3
   },
   "file_extension": ".py",
   "mimetype": "text/x-python",
   "name": "python",
   "nbconvert_exporter": "python",
   "pygments_lexer": "ipython3",
   "version": "3.8.12"
  }
 },
 "nbformat": 4,
 "nbformat_minor": 5
}
